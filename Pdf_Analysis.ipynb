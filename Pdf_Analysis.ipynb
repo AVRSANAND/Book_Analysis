{
 "cells": [
  {
   "cell_type": "markdown",
   "id": "20799a1a-8dd3-48af-a515-7c79dbd1da52",
   "metadata": {},
   "source": [
    "# Load pdf book"
   ]
  },
  {
   "cell_type": "code",
   "execution_count": null,
   "id": "d70ded2d-2cdc-464e-9852-0ad0a084ee41",
   "metadata": {},
   "outputs": [],
   "source": []
  }
 ],
 "metadata": {
  "kernelspec": {
   "display_name": "Python 3 (ipykernel)",
   "language": "python",
   "name": "python3"
  },
  "language_info": {
   "codemirror_mode": {
    "name": "ipython",
    "version": 3
   },
   "file_extension": ".py",
   "mimetype": "text/x-python",
   "name": "python",
   "nbconvert_exporter": "python",
   "pygments_lexer": "ipython3",
   "version": "3.12.0"
  }
 },
 "nbformat": 4,
 "nbformat_minor": 5
}
