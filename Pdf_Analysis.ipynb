{
 "cells": [
  {
   "cell_type": "markdown",
   "id": "20799a1a-8dd3-48af-a515-7c79dbd1da52",
   "metadata": {},
   "source": [
    "# Load pdf book"
   ]
  },
  {
   "cell_type": "code",
   "execution_count": 6,
   "id": "d70ded2d-2cdc-464e-9852-0ad0a084ee41",
   "metadata": {},
   "outputs": [
    {
     "name": "stdout",
     "output_type": "stream",
     "text": [
      "Requirement already satisfied: PyMuPDF in c:\\users\\avrsa\\documents\\pythontodo\\book_analysis\\.venv\\lib\\site-packages (1.24.7)\n",
      "Requirement already satisfied: PyMuPDFb==1.24.6 in c:\\users\\avrsa\\documents\\pythontodo\\book_analysis\\.venv\\lib\\site-packages (from PyMuPDF) (1.24.6)\n"
     ]
    },
    {
     "name": "stderr",
     "output_type": "stream",
     "text": [
      "\n",
      "[notice] A new release of pip is available: 23.2.1 -> 24.1.1\n",
      "[notice] To update, run: python.exe -m pip install --upgrade pip\n"
     ]
    },
    {
     "name": "stdout",
     "output_type": "stream",
     "text": [
      "Requirement already satisfied: textblob in c:\\users\\avrsa\\documents\\pythontodo\\book_analysis\\.venv\\lib\\site-packages (0.18.0.post0)\n",
      "Requirement already satisfied: nltk>=3.8 in c:\\users\\avrsa\\documents\\pythontodo\\book_analysis\\.venv\\lib\\site-packages (from textblob) (3.8.1)\n",
      "Requirement already satisfied: click in c:\\users\\avrsa\\documents\\pythontodo\\book_analysis\\.venv\\lib\\site-packages (from nltk>=3.8->textblob) (8.1.7)\n",
      "Requirement already satisfied: joblib in c:\\users\\avrsa\\documents\\pythontodo\\book_analysis\\.venv\\lib\\site-packages (from nltk>=3.8->textblob) (1.4.2)\n",
      "Requirement already satisfied: regex>=2021.8.3 in c:\\users\\avrsa\\documents\\pythontodo\\book_analysis\\.venv\\lib\\site-packages (from nltk>=3.8->textblob) (2024.5.15)\n",
      "Requirement already satisfied: tqdm in c:\\users\\avrsa\\documents\\pythontodo\\book_analysis\\.venv\\lib\\site-packages (from nltk>=3.8->textblob) (4.66.4)\n",
      "Requirement already satisfied: colorama in c:\\users\\avrsa\\documents\\pythontodo\\book_analysis\\.venv\\lib\\site-packages (from click->nltk>=3.8->textblob) (0.4.6)\n"
     ]
    },
    {
     "name": "stderr",
     "output_type": "stream",
     "text": [
      "\n",
      "[notice] A new release of pip is available: 23.2.1 -> 24.1.1\n",
      "[notice] To update, run: python.exe -m pip install --upgrade pip\n",
      "[nltk_data] Downloading package punkt to\n",
      "[nltk_data]     C:\\Users\\avrsa\\AppData\\Roaming\\nltk_data...\n",
      "[nltk_data]   Package punkt is already up-to-date!\n"
     ]
    },
    {
     "ename": "NameError",
     "evalue": "name 'textblob' is not defined",
     "output_type": "error",
     "traceback": [
      "\u001b[1;31m---------------------------------------------------------------------------\u001b[0m",
      "\u001b[1;31mNameError\u001b[0m                                 Traceback (most recent call last)",
      "Cell \u001b[1;32mIn[6], line 12\u001b[0m\n\u001b[0;32m     10\u001b[0m \u001b[38;5;66;03m# Ensure nltk resources are downloaded\u001b[39;00m\n\u001b[0;32m     11\u001b[0m nltk\u001b[38;5;241m.\u001b[39mdownload(\u001b[38;5;124m'\u001b[39m\u001b[38;5;124mpunkt\u001b[39m\u001b[38;5;124m'\u001b[39m)\n\u001b[1;32m---> 12\u001b[0m \u001b[43mtextblob\u001b[49m\u001b[38;5;241m.\u001b[39mdownload()\n\u001b[0;32m     13\u001b[0m PyMuPDF\u001b[38;5;241m.\u001b[39mdownload()\n",
      "\u001b[1;31mNameError\u001b[0m: name 'textblob' is not defined"
     ]
    }
   ],
   "source": [
    "!pip install PyMuPDF\n",
    "!pip install textblob\n",
    "import re\n",
    "import nltk\n",
    "# import textblob \n",
    "# import PyMuPDF \n",
    "import pandas as pd\n",
    "import matplotlib.pyplot as plt\n",
    "\n",
    "# Ensure nltk resources are downloaded\n",
    "nltk.download('punkt')\n",
    "textblob.download()\n",
    "PyMuPDF.download()"
   ]
  },
  {
   "cell_type": "code",
   "execution_count": null,
   "id": "61911f4a-06cc-40b5-9680-9ae6c20dedba",
   "metadata": {},
   "outputs": [],
   "source": []
  }
 ],
 "metadata": {
  "kernelspec": {
   "display_name": "Python 3 (ipykernel)",
   "language": "python",
   "name": "python3"
  },
  "language_info": {
   "codemirror_mode": {
    "name": "ipython",
    "version": 3
   },
   "file_extension": ".py",
   "mimetype": "text/x-python",
   "name": "python",
   "nbconvert_exporter": "python",
   "pygments_lexer": "ipython3",
   "version": "3.12.0"
  }
 },
 "nbformat": 4,
 "nbformat_minor": 5
}
